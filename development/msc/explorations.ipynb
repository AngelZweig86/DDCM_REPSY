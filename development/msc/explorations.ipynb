{
 "cells": [
  {
   "cell_type": "code",
   "execution_count": 222,
   "metadata": {},
   "outputs": [],
   "source": [
    "# standard library\n",
    "import pickle as pkl\n",
    "\n",
    "import sys\n",
    "import os\n",
    "\n",
    "\n",
    "ROBUPY_DIR = os.environ['ROBUPY']\n",
    "CHOICES = ['Alternative A', 'Alternative B', 'Schooling', 'Home']\n",
    "\n",
    "os.chdir(ROBUPY_DIR + '/development/analyses/robust/modeling_tradeoff/policy_intervention')"
   ]
  },
  {
   "cell_type": "code",
   "execution_count": 223,
   "metadata": {},
   "outputs": [],
   "source": [
    "levels = [0.0, 0.01, 0.02]\n",
    "\n",
    "rslt = pkl.load(open('rslts/policy_intervention.respy.pkl', 'rb'))"
   ]
  },
  {
   "cell_type": "code",
   "execution_count": 224,
   "metadata": {},
   "outputs": [
    {
     "name": "stdout",
     "output_type": "stream",
     "text": [
      "{0.0: {0.0: 10.0, 1000.0: 10.0, 500.0: 10.0, 1500.0: 10.0, 2000.0: 10.0}, 0.02: {0.0: 10.0, 1000.0: 10.0, 500.0: 10.0, 1500.0: 10.0, 2000.0: 10.0}, 0.01: {0.0: 10.0, 1000.0: 10.0, 500.0: 10.0, 1500.0: 10.0, 2000.0: 10.0}}\n"
     ]
    }
   ],
   "source": [
    "print(rslt)"
   ]
  },
  {
   "cell_type": "code",
   "execution_count": 247,
   "metadata": {},
   "outputs": [],
   "source": [
    "levels = list(rslt.keys())\n",
    "\n",
    "levels.sort()\n",
    "\n",
    "with open('rslts/policy_intervention.respy.log', 'w') as out_file:\n",
    "    \n",
    "    # Heading\n",
    "    fmt = ' {0:5}{1:>15}{2:>25}\\n\\n'\n",
    "    args = ('Level', 'Subsidy', 'Average Education')\n",
    "    out_file.write(fmt.format(*args))\n",
    "\n",
    "    for level in levels:\n",
    "        \n",
    "        subsidies = rslt[level]\n",
    "        \n",
    "        for subsidy in subsidies:\n",
    "            \n",
    "            education = rslt[level][subsidy]\n",
    "            \n",
    "            fmt = ' {0:<5.3f}{1:15.2f}{2:25.7f}\\n'\n",
    "            args = (level, subsidy, education)\n",
    "            out_file.write(fmt.format(*args))\n",
    "        \n",
    "        out_file.write('\\n')"
   ]
  },
  {
   "cell_type": "code",
   "execution_count": null,
   "metadata": {},
   "outputs": [],
   "source": [
    ""
   ]
  }
 ],
 "metadata": {
  "kernelspec": {
   "display_name": "Python 3",
   "language": "python",
   "name": "python3"
  },
  "language_info": {
   "codemirror_mode": {
    "name": "ipython",
    "version": 3.0
   },
   "file_extension": ".py",
   "mimetype": "text/x-python",
   "name": "python",
   "nbconvert_exporter": "python",
   "pygments_lexer": "ipython3",
   "version": "3.4.3"
  }
 },
 "nbformat": 4,
 "nbformat_minor": 0
}