{
 "cells": [
  {
   "cell_type": "markdown",
   "metadata": {},
   "source": [
    "This notebook's only purpose is to transfer the original dataset so that it can be read by the *respy* package."
   ]
  },
  {
   "cell_type": "code",
   "execution_count": 1,
   "metadata": {},
   "outputs": [
    {
     "data": {
      "text/html": [
       "<div>\n",
       "<style>\n",
       "    .dataframe thead tr:only-child th {\n",
       "        text-align: right;\n",
       "    }\n",
       "\n",
       "    .dataframe thead th {\n",
       "        text-align: left;\n",
       "    }\n",
       "\n",
       "    .dataframe tbody tr th {\n",
       "        vertical-align: top;\n",
       "    }\n",
       "</style>\n",
       "<table border=\"1\" class=\"dataframe\">\n",
       "  <thead>\n",
       "    <tr style=\"text-align: right;\">\n",
       "      <th></th>\n",
       "      <th></th>\n",
       "      <th>Identifier</th>\n",
       "      <th>Age</th>\n",
       "      <th>Schooling</th>\n",
       "      <th>Choice</th>\n",
       "      <th>Wage</th>\n",
       "    </tr>\n",
       "    <tr>\n",
       "      <th>Identifier</th>\n",
       "      <th>Age</th>\n",
       "      <th></th>\n",
       "      <th></th>\n",
       "      <th></th>\n",
       "      <th></th>\n",
       "      <th></th>\n",
       "    </tr>\n",
       "  </thead>\n",
       "  <tbody>\n",
       "    <tr>\n",
       "      <th rowspan=\"10\" valign=\"top\">6</th>\n",
       "      <th>16</th>\n",
       "      <td>6</td>\n",
       "      <td>16</td>\n",
       "      <td>11</td>\n",
       "      <td>Schooling</td>\n",
       "      <td>NaN</td>\n",
       "    </tr>\n",
       "    <tr>\n",
       "      <th>17</th>\n",
       "      <td>6</td>\n",
       "      <td>17</td>\n",
       "      <td>12</td>\n",
       "      <td>Schooling</td>\n",
       "      <td>NaN</td>\n",
       "    </tr>\n",
       "    <tr>\n",
       "      <th>18</th>\n",
       "      <td>6</td>\n",
       "      <td>18</td>\n",
       "      <td>13</td>\n",
       "      <td>Schooling</td>\n",
       "      <td>NaN</td>\n",
       "    </tr>\n",
       "    <tr>\n",
       "      <th>19</th>\n",
       "      <td>6</td>\n",
       "      <td>19</td>\n",
       "      <td>14</td>\n",
       "      <td>Schooling</td>\n",
       "      <td>NaN</td>\n",
       "    </tr>\n",
       "    <tr>\n",
       "      <th>20</th>\n",
       "      <td>6</td>\n",
       "      <td>20</td>\n",
       "      <td>15</td>\n",
       "      <td>Schooling</td>\n",
       "      <td>NaN</td>\n",
       "    </tr>\n",
       "    <tr>\n",
       "      <th>21</th>\n",
       "      <td>6</td>\n",
       "      <td>21</td>\n",
       "      <td>16</td>\n",
       "      <td>Home</td>\n",
       "      <td>NaN</td>\n",
       "    </tr>\n",
       "    <tr>\n",
       "      <th>22</th>\n",
       "      <td>6</td>\n",
       "      <td>22</td>\n",
       "      <td>16</td>\n",
       "      <td>White</td>\n",
       "      <td>14062.67</td>\n",
       "    </tr>\n",
       "    <tr>\n",
       "      <th>23</th>\n",
       "      <td>6</td>\n",
       "      <td>23</td>\n",
       "      <td>16</td>\n",
       "      <td>White</td>\n",
       "      <td>15921.17</td>\n",
       "    </tr>\n",
       "    <tr>\n",
       "      <th>24</th>\n",
       "      <td>6</td>\n",
       "      <td>24</td>\n",
       "      <td>16</td>\n",
       "      <td>White</td>\n",
       "      <td>18602.73</td>\n",
       "    </tr>\n",
       "    <tr>\n",
       "      <th>25</th>\n",
       "      <td>6</td>\n",
       "      <td>25</td>\n",
       "      <td>16</td>\n",
       "      <td>White</td>\n",
       "      <td>19693.95</td>\n",
       "    </tr>\n",
       "  </tbody>\n",
       "</table>\n",
       "</div>"
      ],
      "text/plain": [
       "                Identifier  Age  Schooling     Choice      Wage\n",
       "Identifier Age                                                 \n",
       "6          16            6   16         11  Schooling       NaN\n",
       "           17            6   17         12  Schooling       NaN\n",
       "           18            6   18         13  Schooling       NaN\n",
       "           19            6   19         14  Schooling       NaN\n",
       "           20            6   20         15  Schooling       NaN\n",
       "           21            6   21         16       Home       NaN\n",
       "           22            6   22         16      White  14062.67\n",
       "           23            6   23         16      White  15921.17\n",
       "           24            6   24         16      White  18602.73\n",
       "           25            6   25         16      White  19693.95"
      ]
     },
     "execution_count": 1,
     "metadata": {},
     "output_type": "execute_result"
    }
   ],
   "source": [
    "import pandas as pd\n",
    "import numpy as np\n",
    "\n",
    "DATA_LABELS_EST = []\n",
    "DATA_LABELS_EST += ['Identifier', 'Period', 'Choice', 'Wage']\n",
    "DATA_LABELS_EST += ['Experience_A', 'Experience_B', 'Years_Schooling']\n",
    "DATA_LABELS_EST += ['Lagged_Activity']\n",
    "\n",
    "DATA_FORMATS_EST = dict()\n",
    "for key_ in DATA_LABELS_EST:\n",
    "    DATA_FORMATS_EST[key_] = np.int\n",
    "    if key_ in ['Wage']:\n",
    "        DATA_FORMATS_EST[key_] = np.float\n",
    "\n",
    "columns = ['Identifier', 'Age', 'Schooling', 'Choice', 'Wage']\n",
    "dtype = {'Identifier': np.int, 'Age': np.int,  'Schooling': np.int,  'Choice': 'category'} \n",
    "df_kw = pd.DataFrame(np.genfromtxt('KW_97.raw'), columns=columns).astype(dtype)  \n",
    "df_kw.set_index(['Identifier', 'Age'], inplace=True, drop=False) \n",
    "df_kw['Choice'].cat.categories = ['Schooling', 'Home', 'White', 'Blue', 'Military'] \n",
    "\n",
    "df_base = df_kw.copy(deep=True)\n",
    "df_kw.head(10)"
   ]
  },
  {
   "cell_type": "markdown",
   "metadata": {},
   "source": [
    "The *respy* package does expect a colum that provides information about the period instead of the particular age."
   ]
  },
  {
   "cell_type": "code",
   "execution_count": 2,
   "metadata": {
    "collapsed": true
   },
   "outputs": [],
   "source": [
    "df_base['Period'] = df_base['Age'] - 16"
   ]
  },
  {
   "cell_type": "markdown",
   "metadata": {},
   "source": [
    "... the choices need to be provided as integers."
   ]
  },
  {
   "cell_type": "code",
   "execution_count": null,
   "metadata": {},
   "outputs": [],
   "source": [
    "df_base['Choice'].cat.categories = [3, 4, 1, 2, -99] "
   ]
  },
  {
   "cell_type": "markdown",
   "metadata": {},
   "source": [
    ".. individuals joining the military are deleted going forward."
   ]
  },
  {
   "cell_type": "code",
   "execution_count": null,
   "metadata": {},
   "outputs": [],
   "source": [
    "def delete_military_service(agent):\n",
    "    \"\"\"This function deletes all observations going forward if an individual enrolls in the military.\"\"\"\n",
    "    for index, row in agent.iterrows():\n",
    "        identifier, period = index\n",
    "        if row['Choice'] == -99:\n",
    "            return agent.loc[(slice(None,None), slice(None,period - 1)), :]\n",
    "    \n",
    "    return agent\n",
    "\n",
    "\n",
    "df_base = df_base.groupby(level='Identifier').apply(delete_military_service)\n",
    "df_base.set_index(['Identifier', 'Age'], inplace=True, drop=False) "
   ]
  },
  {
   "cell_type": "markdown",
   "metadata": {},
   "source": [
    "... the schooling variable needs to be renamed"
   ]
  },
  {
   "cell_type": "code",
   "execution_count": null,
   "metadata": {},
   "outputs": [],
   "source": [
    "df_base.rename(columns={'Schooling': 'Years_Schooling'}, inplace=True)"
   ]
  },
  {
   "cell_type": "markdown",
   "metadata": {},
   "source": [
    ".. the other state variables need to be added"
   ]
  },
  {
   "cell_type": "code",
   "execution_count": null,
   "metadata": {},
   "outputs": [],
   "source": [
    "def add_state_variables(agent):\n",
    "    \n",
    "    exp_a, exp_b, lagged_activity = 0, 0, 1\n",
    "    \n",
    "    for index, row in agent.iterrows():\n",
    "        identifier, period = index\n",
    "                \n",
    "        agent['Lagged_Activity'].loc[:, period] = lagged_activity\n",
    "        agent['Experience_A'].loc[:, period] = exp_a\n",
    "        agent['Experience_B'].loc[:, period] = exp_b\n",
    "\n",
    "        # Update labor market experience\n",
    "        if row['Choice'] == 1:\n",
    "            exp_a += 1\n",
    "        elif row['Choice'] == 2:\n",
    "            exp_b += 1\n",
    "        else:\n",
    "            pass\n",
    "           \n",
    "        # (0) Home, (1) Education, (2) Occupation A, and (3) Occupation B.\n",
    "        # Update lagged activity\n",
    "        lagged_activity = 0\n",
    "        \n",
    "        if row['Choice'] == 1:\n",
    "            lagged_activity = 2\n",
    "        elif row['Choice'] == 2:\n",
    "            lagged_activity = 3\n",
    "        elif row['Choice'] == 3:\n",
    "            lagged_activity = 1\n",
    "        else:\n",
    "            pass\n",
    "                   \n",
    "    return agent\n",
    "\n",
    "\n",
    "df_base['Lagged_Activity'] = np.nan\n",
    "df_base['Experience_A'] = np.nan\n",
    "df_base['Experience_B'] = np.nan\n",
    "\n",
    "df_base = df_base.groupby(level='Identifier').apply(add_state_variables)\n",
    "df_base.head()"
   ]
  },
  {
   "cell_type": "markdown",
   "metadata": {},
   "source": [
    "Finally, just cutting the dataframe down to size and ensuring a correct formatting."
   ]
  },
  {
   "cell_type": "code",
   "execution_count": null,
   "metadata": {},
   "outputs": [],
   "source": [
    "df_base = df_base[DATA_LABELS_EST].astype(DATA_FORMATS_EST)"
   ]
  },
  {
   "cell_type": "code",
   "execution_count": null,
   "metadata": {},
   "outputs": [],
   "source": [
    "with open('career_decisions_data.respy.dat', 'w') as file_:\n",
    "    df_base.to_string(file_, index=False, header=True, na_rep='.')"
   ]
  },
  {
   "cell_type": "code",
   "execution_count": null,
   "metadata": {},
   "outputs": [],
   "source": [
    "stat = 117327602.84280013\n",
    "np.testing.assert_equal(np.sum(df_base.sum()), stat)"
   ]
  }
 ],
 "metadata": {
  "kernelspec": {
   "display_name": "Python 3",
   "language": "python",
   "name": "python3"
  },
  "language_info": {
   "codemirror_mode": {
    "name": "ipython",
    "version": 3
   },
   "file_extension": ".py",
   "mimetype": "text/x-python",
   "name": "python",
   "nbconvert_exporter": "python",
   "pygments_lexer": "ipython3",
   "version": "3.5.2"
  }
 },
 "nbformat": 4,
 "nbformat_minor": 2
}
