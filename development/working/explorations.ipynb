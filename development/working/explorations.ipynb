{
 "cells": [
  {
   "cell_type": "markdown",
   "metadata": {},
   "source": [
    "# Likelihood Revisit"
   ]
  },
  {
   "cell_type": "code",
   "execution_count": 173,
   "metadata": {},
   "outputs": [
    {
     "name": "stdout",
     "output_type": "stream",
     "text": [
      "[0 1 2 3]\n",
      "-1 1\n",
      "[1] [0 3 2 1]\n"
     ]
    }
   ],
   "source": [
    "import numpy as np\n",
    "\n",
    "\n",
    "def conditional_distribution(mean, cov, stat):\n",
    "    \"\"\" This function calculates the conditional distribution This function assumes that the draws refer to the\n",
    "    last elements.\"\"\"\n",
    "    \n",
    "    q, p = len(mean) - len(stat), len(stat)\n",
    "    \n",
    "    \n",
    "    mu_1, mu_2 = mean[0:q], mean[q:(p + q)]\n",
    "\n",
    "    sigma_11 = cov[0:q,0:q]\n",
    "    sigma_22 = cov[q:(q + p), q:(q + p)]\n",
    "    \n",
    "    \n",
    "    sigma_12 = cov[0:q, q:(q + p)]\n",
    "    sigma_21 = cov[q:(q + p),0:q]\n",
    "    \n",
    "    \n",
    "    # Ensuring that the simple decompositions worked properly\n",
    "    upper = np.hstack((sigma_11, sigma_12))\n",
    "    lower = np.hstack((sigma_21, sigma_22))\n",
    "\n",
    "    np.testing.assert_equal(np.hstack((mu_1, mu_2)), mean)\n",
    "    np.testing.assert_equal(np.vstack((upper, lower)), cov)\n",
    "    \n",
    "\n",
    "    cond_mean = mu_1 + np.matmul(np.matmul(sigma_12, np.linalg.inv(sigma_22)), (stat - mu_2))\n",
    "    cond_cov = sigma_11 - np.matmul(np.matmul(sigma_12, np.linalg.inv(sigma_22)), sigma_21)\n",
    "    \n",
    "    return cond_mean, cond_cov\n",
    "    \n",
    "\n",
    "def swap_rows(v, i, j):\n",
    "    if len(v.shape) == 1:\n",
    "        v[i], v[j] = v[j], v[i]\n",
    "    else:\n",
    "        v[[i, j], :] = v[[j, i], :]\n",
    "\n",
    "    return v\n",
    "\n",
    "def swap_columns(v, i, j):\n",
    "    v[:, [i, j]] = v[:, [j, i]]\n",
    "    return v\n",
    "    \n",
    "np.random.seed(1223)\n",
    "for _ in range(1):\n",
    "\n",
    "    num_draws = 4#np.random.randint(low=2, high=10)\n",
    "    num_stat = 1#np.random.randint(low=1, high=num_draws)\n",
    "\n",
    "    pos = np.random.choice(range(num_draws), size=num_stat, replace=False)\n",
    "       \n",
    "    \n",
    "    mean = np.array(np.random.uniform(size=num_draws), ndmin=1)\n",
    "    from scipy.stats import wishart, chi2\n",
    "    \n",
    "    cov = wishart.rvs(df=num_draws, scale=np.identity(num_draws))\n",
    "    \n",
    "    cov_base = cov.copy()\n",
    "\n",
    "    for i, j in enumerate(pos):\n",
    "        mean = swap_rows(mean, -(i + 1), j)\n",
    "    \n",
    "    for i, j in enumerate(pos):\n",
    "        cov_base = swap_columns(cov_base, -(i + 1), j)\n",
    "        cov_base = swap_rows(cov_base, -(i + 1), j)\n",
    "\n",
    "        \n",
    "    base_idx = np.array(range(num_draws), ndmin=1)\n",
    "    print(base_idx)\n",
    "    for i, j in enumerate(pos):\n",
    "        cov = swap_rows(cov, -(i + 1), j)\n",
    "        cov = swap_columns(cov, -(i + 1), j)\n",
    "        print( -(i + 1), j)\n",
    "        base_idx = swap_rows(base_idx, -(i + 1), j)\n",
    "        \n",
    "    print(pos, base_idx)\n",
    "    \n",
    "    np.testing.assert_equal(cov, cov_base)\n",
    "    \n",
    "    stat = np.array(np.random.uniform(size=num_stat), ndmin=1)\n",
    "    rslt = conditional_distribution(mean, cov, stat)\n",
    "\n",
    "\n",
    "\n"
   ]
  }
 ],
 "metadata": {
  "kernelspec": {
   "display_name": "Python 3",
   "language": "python",
   "name": "python3"
  },
  "language_info": {
   "codemirror_mode": {
    "name": "ipython",
    "version": 3
   },
   "file_extension": ".py",
   "mimetype": "text/x-python",
   "name": "python",
   "nbconvert_exporter": "python",
   "pygments_lexer": "ipython3",
   "version": "3.5.2"
  }
 },
 "nbformat": 4,
 "nbformat_minor": 1
}
