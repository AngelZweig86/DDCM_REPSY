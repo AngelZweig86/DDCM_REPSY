{
 "cells": [
  {
   "cell_type": "code",
   "execution_count": 54,
   "metadata": {},
   "outputs": [
    {
     "data": {
      "text/plain": [
       "'/home/peisenha/ownCloud/office/workspace/software/repositories/organizations/restudToolbox/package/development/working'"
      ]
     },
     "execution_count": 54,
     "metadata": {},
     "output_type": "execute_result"
    }
   ],
   "source": [
    "# Imports\n",
    "import numpy as np\n",
    "import pandas as pd\n",
    "\n",
    "import os\n",
    "os.getcwd()"
   ]
  },
  {
   "cell_type": "markdown",
   "metadata": {},
   "source": [
    "## Simulation\n",
    "\n",
    "I will now manually check the simulation of some samples to see if the problem is in the simulation."
   ]
  },
  {
   "cell_type": "code",
   "execution_count": 134,
   "metadata": {},
   "outputs": [
    {
     "data": {
      "text/plain": [
       "Index(['Identifier', 'Period', 'Choice', 'Wage', 'Experience_A',\n",
       "       'Experience_B', 'Years_Schooling', 'Lagged_Activity', 'Type',\n",
       "       'Total_Reward_1', 'Total_Reward_2', 'Total_Reward_3', 'Total_Reward_4',\n",
       "       'Systematic_Reward_1', 'Systematic_Reward_2', 'Systematic_Reward_3',\n",
       "       'Systematic_Reward_4', 'Shock_Reward_1', 'Shock_Reward_2',\n",
       "       'Shock_Reward_3', 'Shock_Reward_4', 'Discount_Rate', 'General_Reward_1',\n",
       "       'General_Reward_2', 'Common_Reward', 'Wage_Internal'],\n",
       "      dtype='object')"
      ]
     },
     "execution_count": 134,
     "metadata": {},
     "output_type": "execute_result"
    }
   ],
   "source": [
    "df = pd.read_csv('data.respy.dat', delim_whitespace=True, header=0, na_values='.')\n",
    "df.set_index(['Identifier', 'Period'], drop=False, inplace=True)\n",
    "df.columns"
   ]
  },
  {
   "cell_type": "code",
   "execution_count": 136,
   "metadata": {},
   "outputs": [],
   "source": [
    "\n",
    "cond = df['Choice'] == 2\n",
    "#wage_sys = df['Wage_Internal']\n",
    "\n",
    "col_1 = df['Wage_Internal'] + df['Common_Reward'] + df['General_Reward_2']\n",
    "col_2 = df['Total_Reward_2']\n",
    "np.testing.assert_array_almost_equal(col_1.loc[cond], col_2.loc[cond])\n",
    "\n"
   ]
  },
  {
   "cell_type": "code",
   "execution_count": null,
   "metadata": {
    "collapsed": true
   },
   "outputs": [],
   "source": []
  }
 ],
 "metadata": {
  "kernelspec": {
   "display_name": "Python 3",
   "language": "python",
   "name": "python3"
  },
  "language_info": {
   "codemirror_mode": {
    "name": "ipython",
    "version": 3
   },
   "file_extension": ".py",
   "mimetype": "text/x-python",
   "name": "python",
   "nbconvert_exporter": "python",
   "pygments_lexer": "ipython3",
   "version": "3.5.2"
  }
 },
 "nbformat": 4,
 "nbformat_minor": 1
}
