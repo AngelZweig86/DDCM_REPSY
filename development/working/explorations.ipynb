{
 "cells": [
  {
   "cell_type": "code",
   "execution_count": 3,
   "metadata": {
    "collapsed": false
   },
   "outputs": [],
   "source": [
    "import os\n",
    "import pandas as pd\n",
    "import numpy as np\n",
    "os.chdir('/home/peisenha/restudToolbox/package/development/testing/property')\n",
    "\n"
   ]
  },
  {
   "cell_type": "code",
   "execution_count": 4,
   "metadata": {
    "collapsed": false
   },
   "outputs": [],
   "source": [
    "\n"
   ]
  },
  {
   "cell_type": "code",
   "execution_count": 24,
   "metadata": {
    "collapsed": false
   },
   "outputs": [
    {
     "name": "stdout",
     "output_type": "stream",
     "text": [
      "   Identifier  Period  Choice  Earnings  Experience A  Experience B  \\\n",
      "0           0       0       2       NaN             0             0   \n",
      "1           1       0       3       NaN             0             0   \n",
      "3           3       0       2      0.91             0             0   \n",
      "2           2       0       1      1.13             0             0   \n",
      "\n",
      "   Years Schooling  Lagged Schooling  \n",
      "0                5                 1  \n",
      "1                5                 1  \n",
      "3                5                 1  \n",
      "2                5                 1  \n"
     ]
    }
   ],
   "source": [
    "data_frame = pd.read_pickle('debug.respy.pkl')\n",
    "num_missing = int(np.sum(data_frame['Choice'].isin([1, 2])) * 0.5)\n",
    "index_missing = np.random.choice(data_frame['Earnings'][is_working].index, num_missing, replace=False)\n",
    "data_frame.loc[index_missing, 'Earnings'] = None\n",
    "\n",
    "print data_frame"
   ]
  }
 ],
 "metadata": {
  "kernelspec": {
   "display_name": "Python 2",
   "language": "python",
   "name": "python2"
  },
  "language_info": {
   "codemirror_mode": {
    "name": "ipython",
    "version": 2
   },
   "file_extension": ".py",
   "mimetype": "text/x-python",
   "name": "python",
   "nbconvert_exporter": "python",
   "pygments_lexer": "ipython2",
   "version": "2.7.12"
  }
 },
 "nbformat": 4,
 "nbformat_minor": 0
}
