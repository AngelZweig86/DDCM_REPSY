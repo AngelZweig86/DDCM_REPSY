{
 "cells": [
  {
   "cell_type": "markdown",
   "metadata": {},
   "source": [
    "# Adding a transition matrix and Returns to E"
   ]
  },
  {
   "cell_type": "code",
   "execution_count": 68,
   "metadata": {
    "collapsed": false
   },
   "outputs": [
    {
     "name": "stdout",
     "output_type": "stream",
     "text": [
      "{0: 470, 1: 123, 2: 407}\n"
     ]
    }
   ],
   "source": [
    "import numpy as np\n",
    "import pandas as pd\n",
    "\n",
    "\n",
    "data_frame = pd.read_csv('data.respy.dat', delim_whitespace=True, header=0, na_values='.')\n",
    "data_frame.set_index(['Identifier', 'Period'], drop=False, inplace=True)\n",
    "num_periods = 40\n",
    "num_agents_sim = 1000\n",
    "data_frame.head()\n",
    "\n",
    "num_agents_types = data_frame.groupby('Identifier').first()['Type'].value_counts().to_dict()\n",
    "print num_agents_types\n"
   ]
  },
  {
   "cell_type": "code",
   "execution_count": 70,
   "metadata": {
    "collapsed": false
   },
   "outputs": [],
   "source": [
    "choices = data_frame['Choice']\n",
    "\n",
    "for t in range(num_periods):\n",
    "    args = []\n",
    "    for decision in [1, 2, 3, 4]:\n",
    "        cond = data_frame['Type'] == 0\n",
    "        args += [(choices.loc[slice(None), t] == decision).sum()]\n",
    "    args = [x / float(num_agents_sim) for x in args]\n",
    "        \n",
    "choice_probs = dict()\n",
    "num_types = 3\n",
    "for type_ in range(num_types):\n",
    "    choice_probs[type_] = []\n",
    "    for t in range(num_periods):\n",
    "        args = []\n",
    "        for decision in [1, 2, 3, 4]:\n",
    "            cond = (data_frame['Period'] == t) & (data_frame['Type'] == type_)\n",
    "            args += [(data_frame.loc[cond, 'Choice'] == decision).sum()]\n",
    "        args = [x / float(num_agents_types[type_]) for x in args]\n",
    "        choice_probs[type_] += [args]"
   ]
  },
  {
   "cell_type": "code",
   "execution_count": 71,
   "metadata": {
    "collapsed": false
   },
   "outputs": [
    {
     "name": "stdout",
     "output_type": "stream",
     "text": [
      "[0.38085106382978723, 0.10000000000000001, 0.51063829787234039, 0.0085106382978723406]\n",
      "[0.88617886178861793, 0.0, 0.0, 0.11382113821138211]\n",
      "[0.0049140049140049139, 0.081081081081081086, 0.91400491400491402, 0.0]\n"
     ]
    }
   ],
   "source": [
    "print choice_probs[0][0]\n",
    "print choice_probs[1][0]\n",
    "print choice_probs[2][0]"
   ]
  },
  {
   "cell_type": "code",
   "execution_count": null,
   "metadata": {
    "collapsed": true
   },
   "outputs": [],
   "source": []
  }
 ],
 "metadata": {
  "kernelspec": {
   "display_name": "Python 2",
   "language": "python",
   "name": "python2"
  },
  "language_info": {
   "codemirror_mode": {
    "name": "ipython",
    "version": 2
   },
   "file_extension": ".py",
   "mimetype": "text/x-python",
   "name": "python",
   "nbconvert_exporter": "python",
   "pygments_lexer": "ipython2",
   "version": "2.7.12"
  }
 },
 "nbformat": 4,
 "nbformat_minor": 0
}
