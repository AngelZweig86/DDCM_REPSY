{
 "cells": [
  {
   "cell_type": "code",
   "execution_count": 4,
   "metadata": {
    "collapsed": false
   },
   "outputs": [],
   "source": [
    "import os\n",
    "import pandas as pd\n",
    "import numpy as np\n",
    "os.chdir('/home/peisenha/restudToolbox/package/development/testing/property')\n",
    "\n"
   ]
  },
  {
   "cell_type": "code",
   "execution_count": 159,
   "metadata": {
    "collapsed": false
   },
   "outputs": [],
   "source": [
    "data_frame = pd.read_pickle('debug.respy.pkl')\n",
    "\n"
   ]
  },
  {
   "cell_type": "code",
   "execution_count": 187,
   "metadata": {
    "collapsed": false
   },
   "outputs": [
    {
     "data": {
      "text/plain": [
       "Identifier\n",
       "0.0       True\n",
       "1.0       True\n",
       "2.0       True\n",
       "3.0       True\n",
       "4.0       True\n",
       "5.0       True\n",
       "6.0       True\n",
       "7.0      False\n",
       "8.0       True\n",
       "9.0       True\n",
       "10.0      True\n",
       "11.0      True\n",
       "12.0      True\n",
       "13.0      True\n",
       "14.0      True\n",
       "15.0      True\n",
       "16.0      True\n",
       "17.0     False\n",
       "18.0     False\n",
       "19.0      True\n",
       "20.0      True\n",
       "21.0     False\n",
       "22.0      True\n",
       "23.0      True\n",
       "24.0      True\n",
       "25.0      True\n",
       "26.0     False\n",
       "27.0      True\n",
       "28.0      True\n",
       "29.0      True\n",
       "         ...  \n",
       "822.0     True\n",
       "823.0     True\n",
       "824.0     True\n",
       "825.0     True\n",
       "826.0     True\n",
       "827.0     True\n",
       "828.0     True\n",
       "829.0    False\n",
       "830.0     True\n",
       "831.0     True\n",
       "832.0     True\n",
       "833.0     True\n",
       "834.0     True\n",
       "835.0     True\n",
       "836.0     True\n",
       "837.0     True\n",
       "838.0     True\n",
       "839.0     True\n",
       "840.0     True\n",
       "841.0     True\n",
       "842.0     True\n",
       "843.0     True\n",
       "844.0     True\n",
       "845.0     True\n",
       "846.0     True\n",
       "847.0     True\n",
       "848.0    False\n",
       "849.0     True\n",
       "850.0     True\n",
       "851.0     True\n",
       "Name: Choice, dtype: bool"
      ]
     },
     "execution_count": 187,
     "metadata": {},
     "output_type": "execute_result"
    }
   ],
   "source": [
    "(data_frame['Choice'].loc[slice(None), 1].isin([1, 2])) "
   ]
  }
 ],
 "metadata": {
  "kernelspec": {
   "display_name": "Python 2",
   "language": "python",
   "name": "python2"
  },
  "language_info": {
   "codemirror_mode": {
    "name": "ipython",
    "version": 2
   },
   "file_extension": ".py",
   "mimetype": "text/x-python",
   "name": "python",
   "nbconvert_exporter": "python",
   "pygments_lexer": "ipython2",
   "version": "2.7.12"
  }
 },
 "nbformat": 4,
 "nbformat_minor": 0
}
