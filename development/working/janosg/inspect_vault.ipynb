{
 "cells": [
  {
   "cell_type": "code",
   "execution_count": 1,
   "metadata": {},
   "outputs": [],
   "source": [
    "import json"
   ]
  },
  {
   "cell_type": "markdown",
   "metadata": {},
   "source": [
    "When I run all regression tests with the develop branch before my updates, I get the following: \n",
    "\n",
    "\"Failure during regression testing @socrates for test(s): 1700, 3184, 5063, 9923.\"\n",
    "\n",
    "When I run the first 200 tests after my updates (including your hotfix) I get only about twenty percent failures.\n",
    "\n",
    "(After the updates the ambiguity section of the test dictionary is just ignored.)"
   ]
  },
  {
   "cell_type": "code",
   "execution_count": 3,
   "metadata": {},
   "outputs": [],
   "source": [
    "# load the regression_vault:\n",
    "with open('../../../respy/tests/resources/regression_vault.respy.json') as j:\n",
    "    vault = json.load(j)\n",
    "    \n",
    "# list of tests that failed after the update:\n",
    "failed = [1, 4, 11, 19, 34, 37, 46, 55, 62, 63, 67, 70, 81, 85, 88, 127,\n",
    "          131, 135, 137, 139, 145, 147, 149, 151, 155, 164, 165, 167, 175,\n",
    "          180, 182, 183, 184, 185, 194, 199.]"
   ]
  },
  {
   "cell_type": "markdown",
   "metadata": {},
   "source": [
    "Many of the non-failures are not surprising, since some models don't use ambiguity, have myopic agents or only one period. According to those criteria I construct a list of tests that should fail:"
   ]
  },
  {
   "cell_type": "code",
   "execution_count": 7,
   "metadata": {
    "scrolled": false
   },
   "outputs": [
    {
     "data": {
      "text/plain": [
       "{'BASICS': {'bounds': [[0.0, 0.36088443803652037]],\n",
       "  'coeffs': [0.0],\n",
       "  'fixed': [False],\n",
       "  'periods': 9},\n",
       " 'COMMON': {'bounds': [[None, 0.8765997326272312], [None, None]],\n",
       "  'coeffs': [0.003482701746431602, -0.022843906729214804],\n",
       "  'fixed': [True, True]},\n",
       " 'DERIVATIVES': {'version': 'FORWARD-DIFFERENCES'},\n",
       " 'EDUCATION': {'bounds': [[None, 0.49620869597243],\n",
       "   [None, None],\n",
       "   [-0.5125765316298753, 0.4815455969218627],\n",
       "   [None, 0.946468412405082],\n",
       "   [-0.8710215979116244, 0.870736014014337],\n",
       "   [-0.2485581585843562, 0.1617179499290854],\n",
       "   [-0.38158883478318906, 0.821228366161213]],\n",
       "  'coeffs': [-0.029967646085060418,\n",
       "   -0.041215320081179264,\n",
       "   -0.035599203173495644,\n",
       "   -0.0390718094040906,\n",
       "   -0.0043475010938499176,\n",
       "   -0.029203295391093897,\n",
       "   0.026749388361014564],\n",
       "  'fixed': [True, False, False, False, False, False, True],\n",
       "  'max': 25,\n",
       "  'share': [1.0],\n",
       "  'start': [12]},\n",
       " 'ESTIMATION': {'agents': 1,\n",
       "  'draws': 69,\n",
       "  'file': 'data.respy.dat',\n",
       "  'maxfun': 0,\n",
       "  'optimizer': 'FORT-BOBYQA',\n",
       "  'seed': 4112,\n",
       "  'tau': 372.3154377123174},\n",
       " 'FORT-BFGS': {'eps': 1.6419129736093742e-07,\n",
       "  'gtol': 0.05044339890150805,\n",
       "  'maxiter': 88,\n",
       "  'stpmx': 122.76400656407463},\n",
       " 'FORT-BOBYQA': {'maxfun': 31,\n",
       "  'npt': 47,\n",
       "  'rhobeg': 0.00012292108163497532,\n",
       "  'rhoend': 6.43595270431327e-05},\n",
       " 'FORT-NEWUOA': {'maxfun': 7,\n",
       "  'npt': 80,\n",
       "  'rhobeg': 0.0003577222183832695,\n",
       "  'rhoend': 0.0001747467677691534},\n",
       " 'FORT-SLSQP': {'eps': 8.455806089006352e-07,\n",
       "  'ftol': 3.0439036850359534e-07,\n",
       "  'maxiter': 98},\n",
       " 'HOME': {'bounds': [[-0.7200898732304915, None],\n",
       "   [None, 0.41579036043129847],\n",
       "   [-0.7858603123878496, None]],\n",
       "  'coeffs': [0.049702310100116984, 0.03905931421047884, -0.020695511890841026],\n",
       "  'fixed': [True, False, False]},\n",
       " 'INTERPOLATION': {'flag': 'False', 'points': 23},\n",
       " 'OCCUPATION A': {'bounds': [[-0.43590887661978167, 0.5579281792259952],\n",
       "   [None, 0.48200652978266867],\n",
       "   [-0.08078310179924965, 1.0339100629599698],\n",
       "   [-0.6398698753035063, None],\n",
       "   [-0.8423044263841504, None],\n",
       "   [None, None],\n",
       "   [None, None],\n",
       "   [-0.5081856380324843, 0.9116951671747352],\n",
       "   [-0.26903954591201285, None],\n",
       "   [None, 0.30443093837806506],\n",
       "   [None, 0.88087868377081],\n",
       "   [-0.9797347695059923, 0.2712397382121268],\n",
       "   [-0.34439248838270314, None],\n",
       "   [-0.8461737177049686, 0.3954167978434754],\n",
       "   [-0.6582466290969923, 0.3254558164520297]],\n",
       "  'coeffs': [0.033685780993044465,\n",
       "   0.03772290860770269,\n",
       "   0.04997401391092475,\n",
       "   -0.02881596136863378,\n",
       "   -0.010676393686193206,\n",
       "   -0.0003554857350261745,\n",
       "   0.006288586887691447,\n",
       "   -0.04643878647805491,\n",
       "   0.041931060947351564,\n",
       "   -0.02288585879959979,\n",
       "   -0.03782998158721539,\n",
       "   0.012003519105178585,\n",
       "   -0.024333494146191917,\n",
       "   -0.02113646837571517,\n",
       "   -0.030661639542063468],\n",
       "  'fixed': [True,\n",
       "   True,\n",
       "   False,\n",
       "   True,\n",
       "   False,\n",
       "   True,\n",
       "   False,\n",
       "   True,\n",
       "   False,\n",
       "   True,\n",
       "   True,\n",
       "   True,\n",
       "   True,\n",
       "   True,\n",
       "   False]},\n",
       " 'OCCUPATION B': {'bounds': [[-0.9908638571655921, 0.16166878559416104],\n",
       "   [-0.20313311392719666, None],\n",
       "   [None, 0.745140714283571],\n",
       "   [None, None],\n",
       "   [-0.7393065708940723, 0.16829782756109338],\n",
       "   [None, 0.8295901466471778],\n",
       "   [-0.543759494405642, 0.3361229533755545],\n",
       "   [-0.09569879515641239, 0.46763411970245206],\n",
       "   [-0.9161874099774937, 0.4105543814113558],\n",
       "   [-0.8100301439060686, None],\n",
       "   [-0.5657107799436382, None],\n",
       "   [-0.4931190016474083, None],\n",
       "   [None, 0.4668635213656108],\n",
       "   [-0.2723805875171209, 0.6459127588099195],\n",
       "   [-0.6061548467874781, None]],\n",
       "  'coeffs': [-0.0029777403833245036,\n",
       "   0.030939183446450108,\n",
       "   0.0364893498931677,\n",
       "   0.010916371772986842,\n",
       "   0.02612667719625489,\n",
       "   -0.0389391302731234,\n",
       "   0.011631347923170297,\n",
       "   0.01853942832691112,\n",
       "   -0.042619291230476364,\n",
       "   -0.005972151496318544,\n",
       "   0.035683176267089264,\n",
       "   -0.0336113740323383,\n",
       "   0.025333393400671783,\n",
       "   0.023754476365249994,\n",
       "   0.020347535878918382],\n",
       "  'fixed': [False,\n",
       "   True,\n",
       "   True,\n",
       "   True,\n",
       "   False,\n",
       "   True,\n",
       "   True,\n",
       "   False,\n",
       "   False,\n",
       "   False,\n",
       "   True,\n",
       "   True,\n",
       "   False,\n",
       "   False,\n",
       "   False]},\n",
       " 'PRECONDITIONING': {'eps': 0.015898278145070537,\n",
       "  'minimum': 0.0007912791277349066,\n",
       "  'type': 'identity'},\n",
       " 'PROGRAM': {'debug': True, 'procs': 4, 'version': 'FORTRAN'},\n",
       " 'SCIPY-BFGS': {'eps': 9.070592085324485e-07,\n",
       "  'gtol': 0.044815796037145125,\n",
       "  'maxiter': 6},\n",
       " 'SCIPY-LBFGSB': {'eps': 6.842879557497416e-09,\n",
       "  'factr': 82.43180324708426,\n",
       "  'm': 1,\n",
       "  'maxiter': 6,\n",
       "  'maxls': 6,\n",
       "  'pgtol': 9.085902241368138e-06},\n",
       " 'SCIPY-POWELL': {'ftol': 0.08954077402382417,\n",
       "  'maxfun': 47,\n",
       "  'maxiter': 22,\n",
       "  'xtol': 0.020121488229487512},\n",
       " 'SCIPY-SLSQP': {'eps': 8.455806089006352e-07,\n",
       "  'ftol': 3.0439036850359534e-07,\n",
       "  'maxiter': 98},\n",
       " 'SHOCKS': {'bounds': [[None, None],\n",
       "   [None, None],\n",
       "   [None, None],\n",
       "   [None, None],\n",
       "   [None, None],\n",
       "   [None, None],\n",
       "   [None, None],\n",
       "   [None, None],\n",
       "   [None, None],\n",
       "   [None, None]],\n",
       "  'coeffs': [0.20929174476664947,\n",
       "   0.0,\n",
       "   0.0,\n",
       "   0.0,\n",
       "   0.4801159867249481,\n",
       "   0.0,\n",
       "   0.0,\n",
       "   0.8254249495463084,\n",
       "   0.0,\n",
       "   0.5612192242662988],\n",
       "  'fixed': [False,\n",
       "   False,\n",
       "   False,\n",
       "   False,\n",
       "   False,\n",
       "   False,\n",
       "   False,\n",
       "   False,\n",
       "   False,\n",
       "   False]},\n",
       " 'SIMULATION': {'agents': 3, 'file': 'data', 'seed': 394},\n",
       " 'SOLUTION': {'draws': 69, 'seed': 1355, 'store': 'False'},\n",
       " 'TYPE SHARES': {'bounds': [[None, None],\n",
       "   [-0.1803174601670734, None],\n",
       "   [None, 0.35952158283674873],\n",
       "   [-0.9554685798205892, 0.3786834884177314]],\n",
       "  'coeffs': [-0.03097206492941709,\n",
       "   -0.005425944119671358,\n",
       "   0.03972258081428352,\n",
       "   0.03615489522427588],\n",
       "  'fixed': [False, False, False, False]},\n",
       " 'TYPE SHIFTS': {'bounds': [[-0.9112814295684905, None],\n",
       "   [None, 0.5172562998801113],\n",
       "   [None, 0.4263666414850774],\n",
       "   [-0.737975321987155, 0.30860543362679793],\n",
       "   [-0.6372571337355107, 0.23881530804075168],\n",
       "   [-0.2167882388204279, None],\n",
       "   [None, None],\n",
       "   [None, None],\n",
       "   [None, 0.41438605881034385]],\n",
       "  'coeffs': [-0.006690960599297982,\n",
       "   -0.04630520100972984,\n",
       "   -0.0030245191915899694,\n",
       "   0.039182296882978376,\n",
       "   0.037019231698987645,\n",
       "   -0.043040269986359715,\n",
       "   0.019199120668650857,\n",
       "   0.010063207877514392,\n",
       "   0.04317728480814895],\n",
       "  'fixed': [True, False, False, False, True, False, False, True]},\n",
       " 'flag_store': False}"
      ]
     },
     "execution_count": 7,
     "metadata": {},
     "output_type": "execute_result"
    }
   ],
   "source": [
    "vault[3812][0]"
   ]
  },
  {
   "cell_type": "code",
   "execution_count": 3,
   "metadata": {},
   "outputs": [
    {
     "name": "stdout",
     "output_type": "stream",
     "text": [
      "[1, 4, 11, 16, 19, 24, 34, 37, 44, 46, 55, 62, 67, 70, 81, 85, 92, 98, 102, 115, 117, 127, 131, 135, 137, 139, 145, 147, 149, 151, 155, 164, 165, 167, 168, 175, 180, 183, 184, 185, 194]\n"
     ]
    }
   ],
   "source": [
    "should_fail = []\n",
    "for i, (test, _) in enumerate(vault[:200]):\n",
    "    expected_to_pass = False\n",
    "    # I'm not completely sure what to expect if the ambiguity coeff is 0 but not fixed\n",
    "    # In practice most of those cases run through.\n",
    "    if test['AMBIGUITY']['coeffs'][0] == 0.0: # and test['AMBIGUITY']['fixed'][0] is True:\n",
    "        expected_to_pass = True\n",
    "    if test['BASICS']['periods'] == 1:\n",
    "        expected_to_pass = True\n",
    "    if test['BASICS']['coeffs'][0] == 0.0:\n",
    "        expected_to_pass = True\n",
    "    \n",
    "    if not expected_to_pass:\n",
    "        should_fail.append(i)\n",
    "        \n",
    "print(should_fail)"
   ]
  },
  {
   "cell_type": "markdown",
   "metadata": {},
   "source": [
    "Next we construct a list of tests that should fail, according to the criteria but don't:"
   ]
  },
  {
   "cell_type": "code",
   "execution_count": 4,
   "metadata": {},
   "outputs": [
    {
     "data": {
      "text/plain": [
       "[16, 24, 44, 92, 98, 102, 115, 117, 168]"
      ]
     },
     "execution_count": 4,
     "metadata": {},
     "output_type": "execute_result"
    }
   ],
   "source": [
    "surprisingly_passing = []\n",
    "for test in should_fail:\n",
    "    if test not in failed:\n",
    "        surprisingly_passing.append(test)\n",
    "surprisingly_passing"
   ]
  },
  {
   "cell_type": "markdown",
   "metadata": {
    "scrolled": false
   },
   "source": [
    "I did not find a strong pattern among surpsisingly passing tests but many of them have either a very low delta or a very low ambiguity level or both. "
   ]
  },
  {
   "cell_type": "markdown",
   "metadata": {
    "collapsed": true,
    "scrolled": false
   },
   "source": [
    "Next we construct a list of tests that should not fail but do"
   ]
  },
  {
   "cell_type": "code",
   "execution_count": 5,
   "metadata": {},
   "outputs": [
    {
     "data": {
      "text/plain": [
       "[63, 88, 182, 199.0]"
      ]
     },
     "execution_count": 5,
     "metadata": {},
     "output_type": "execute_result"
    }
   ],
   "source": [
    "surprisingly_failing = []\n",
    "for test in failed:\n",
    "    if test not in should_fail:\n",
    "        surprisingly_failing.append(test)\n",
    "surprisingly_failing"
   ]
  },
  {
   "cell_type": "code",
   "execution_count": null,
   "metadata": {},
   "outputs": [],
   "source": []
  },
  {
   "cell_type": "code",
   "execution_count": null,
   "metadata": {
    "collapsed": true
   },
   "outputs": [],
   "source": []
  }
 ],
 "metadata": {
  "kernelspec": {
   "display_name": "Python 3",
   "language": "python",
   "name": "python3"
  },
  "language_info": {
   "codemirror_mode": {
    "name": "ipython",
    "version": 3
   },
   "file_extension": ".py",
   "mimetype": "text/x-python",
   "name": "python",
   "nbconvert_exporter": "python",
   "pygments_lexer": "ipython3",
   "version": "3.6.4"
  }
 },
 "nbformat": 4,
 "nbformat_minor": 2
}
