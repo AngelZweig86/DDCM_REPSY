{
 "cells": [
  {
   "cell_type": "code",
   "execution_count": 4,
   "metadata": {},
   "outputs": [],
   "source": [
    "# To run this notebook you have to install cloc by typing\n",
    "# sudo apt install cloc\n",
    "# on linux systems. For windows systems see here: \n",
    "# https://github.com/AlDanial/cloc#apt-get\n",
    "import yaml\n",
    "import pandas as pd\n",
    "\n",
    "import matplotlib\n",
    "import numpy as np\n",
    "import matplotlib.pyplot as plt\n",
    "%matplotlib inline\n",
    "import seaborn as sns\n",
    "import matplotlib.patches as mpatches\n",
    "sns.set_style('whitegrid')"
   ]
  },
  {
   "cell_type": "code",
   "execution_count": 11,
   "metadata": {},
   "outputs": [
    {
     "data": {
      "text/plain": [
       "'/home/janos/Dropbox/Projects/respy/development/documentation/cloc'"
      ]
     },
     "execution_count": 11,
     "metadata": {},
     "output_type": "execute_result"
    }
   ],
   "source": [
    "pwd()"
   ]
  },
  {
   "cell_type": "code",
   "execution_count": 94,
   "metadata": {},
   "outputs": [
    {
     "name": "stdout",
     "output_type": "stream",
     "text": [
      "     235 text files.\n",
      "     232 unique files.                                          \n",
      "     295 files ignored.\n",
      "Wrote cloc_code.yaml\n",
      "      48 text files.\n",
      "      48 unique files.                              \n",
      "      12 files ignored.\n",
      "Wrote cloc_tests.yaml\n"
     ]
    }
   ],
   "source": [
    "# Call cloc and write result to yaml files\n",
    "!cloc --yaml --out=cloc_code.yaml --exclude-dir=../../../development/testing,../../../development/modules,../../../respy/tests ../../../\n",
    "!cloc --yaml --out=cloc_tests.yaml ../../../respy/tests ../../../development/testing ../../../development/modules"
   ]
  },
  {
   "cell_type": "code",
   "execution_count": 99,
   "metadata": {},
   "outputs": [
    {
     "data": {
      "image/png": "[encoded data removed]",
      "text/plain": [
       "<Figure size 648x468 with 1 Axes>"
      ]
     },
     "metadata": {},
     "output_type": "display_data"
    }
   ],
   "source": [
    "# load results\n",
    "with open('cloc_code.yaml', 'r') as y:\n",
    "    code = yaml.load(y)\n",
    "    \n",
    "with open('cloc_tests.yaml', 'r') as y:\n",
    "    tests = yaml.load(y)\n",
    "\n",
    "# store the relevant results in a DataFrame\n",
    "code = pd.DataFrame.from_dict(code).T\n",
    "code = code[['code', 'comment', 'blank']]\n",
    "code = code.loc[['Python', 'Fortran 90', 'Fortran 77']]\n",
    "\n",
    "tests = pd.DataFrame.from_dict(tests).T\n",
    "tests = tests[['code', 'comment', 'blank']]\n",
    "tests = tests.loc[['Python', 'Fortran 90']]\n",
    "tests.rename(index={'Python': 'Python Test Code', 'Fortran 90': 'Fortran 90 Test Code'}, inplace=True)\n",
    "\n",
    "# stack the datasets\n",
    "plot_data = pd.concat([code, tests], axis=0)\n",
    "plot_data = plot_data.loc[['Python', 'Python Test Code', 'Fortran 90', 'Fortran 90 Test Code', 'Fortran 77']]\n",
    "\n",
    "# take the cumsum to make a stacked bar graph\n",
    "plot_data = plot_data.cumsum(axis=1)\n",
    "plot_data.reset_index(inplace=True)\n",
    "\n",
    "# Initialize the matplotlib figure\n",
    "f, ax = plt.subplots(figsize=(9, 6.5))\n",
    "\n",
    "# get the names of some colors\n",
    "pal = sns.color_palette('Blues')\n",
    "b1, b2, b3, b4, b5, b6 = pal.as_hex()\n",
    "\n",
    "# Plot the bars, order is important!\n",
    "sns.barplot(x='comment', y='index', data=plot_data, color=b3)\n",
    "sns.barplot(x='code', y='index', data=plot_data, color=b5)\n",
    "\n",
    "# Style the labels\n",
    "ax.set_xlabel('Lines of Code', fontsize=15, weight=500)\n",
    "ax.set_ylabel('')\n",
    "ax.set_title('Lines of Code by Language', fontsize=22, weight=500, pad=20)\n",
    "ax.tick_params(labelsize=15)\n",
    "\n",
    "# make a legend\n",
    "code_patch = mpatches.Patch(color=b5, label='Code')\n",
    "comment_patch = mpatches.Patch(color=b3 , label='Comments')\n",
    "plt.legend(handles=[code_patch, comment_patch], fontsize=15)\n",
    "\n",
    "f.savefig('lines_of_code_by_language.png', bbox_inches='tight', dpi=200)"
   ]
  },
  {
   "cell_type": "code",
   "execution_count": null,
   "metadata": {},
   "outputs": [],
   "source": []
  },
  {
   "cell_type": "code",
   "execution_count": null,
   "metadata": {},
   "outputs": [],
   "source": []
  },
  {
   "cell_type": "code",
   "execution_count": null,
   "metadata": {},
   "outputs": [],
   "source": []
  }
 ],
 "metadata": {
  "kernelspec": {
   "display_name": "Python 3",
   "language": "python",
   "name": "python3"
  },
  "language_info": {
   "codemirror_mode": {
    "name": "ipython",
    "version": 3
   },
   "file_extension": ".py",
   "mimetype": "text/x-python",
   "name": "python",
   "nbconvert_exporter": "python",
   "pygments_lexer": "ipython3",
   "version": "3.6.4"
  }
 },
 "nbformat": 4,
 "nbformat_minor": 2
}
