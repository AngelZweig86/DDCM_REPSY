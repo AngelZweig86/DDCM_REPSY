{
 "cells": [
  {
   "cell_type": "markdown",
   "metadata": {},
   "source": [
    "# RobuPy"
   ]
  },
  {
   "cell_type": "markdown",
   "metadata": {},
   "source": [
    "This *IPython Notebook* provides an example on how to use the ***RobuPy*** package."
   ]
  },
  {
   "cell_type": "markdown",
   "metadata": {},
   "source": [
    "## Setup "
   ]
  },
  {
   "cell_type": "code",
   "execution_count": 1,
   "metadata": {
    "collapsed": false
   },
   "outputs": [
    {
     "data": {
      "text/html": [
       "<link href='http://fonts.googleapis.com/css?family=Alegreya+Sans:100,300,400,500,700,800,900,100italic,300italic,400italic,500italic,700italic,800italic,900italic' rel='stylesheet' type='text/css'>\n",
       "<link href='http://fonts.googleapis.com/css?family=Arvo:400,700,400italic' rel='stylesheet' type='text/css'>\n",
       "<link href='http://fonts.googleapis.com/css?family=PT+Mono' rel='stylesheet' type='text/css'>\n",
       "<link href='http://fonts.googleapis.com/css?family=Shadows+Into+Light' rel='stylesheet' type='text/css'>\n",
       "<link href='http://fonts.googleapis.com/css?family=Philosopher:400,700,400italic,700italic' rel='stylesheet' type='text/css'>\n",
       "\n",
       "<style>\n",
       "\n",
       "@font-face {\n",
       "    font-family: \"Computer Modern\";\n",
       "    src: url('http://mirrors.ctan.org/fonts/cm-unicode/fonts/otf/cmunss.otf');\n",
       "}\n",
       "\n",
       "#notebook_panel { /* main background */\n",
       "    background: #888;\n",
       "    color: #f6f6f6;\n",
       "}\n",
       "\n",
       "\n",
       "div.cell { /* set cell width to about 80 chars */\n",
       "    width: 1000px;\n",
       "}\n",
       "\n",
       "div #notebook { /* centre the content */\n",
       "    background: #fff; /* white background for content */\n",
       "    width: 1200px;\n",
       "    margin: auto;\n",
       "    padding-left: 1em;\n",
       "}\n",
       "\n",
       "#notebook li { /* More space between bullet points */\n",
       "margin-top:0.8em;\n",
       "}\n",
       "\n",
       "/* draw border around running cells */\n",
       "div.cell.border-box-sizing.code_cell.running {\n",
       "    border: 3px solid #111;\n",
       "}\n",
       "\n",
       "/* Put a solid color box around each cell and its output, visually linking them together */\n",
       "div.cell.code_cell {\n",
       "    background-color: rgba(171,165,131,0.3); \n",
       "    border-radius: 10px; /* rounded borders */\n",
       "    padding: 1em;\n",
       "    margin-top: 1em;\n",
       "}\n",
       "\n",
       "div.text_cell_render{\n",
       "    font-family: 'Arvo' sans-serif;\n",
       "    line-height: 130%;\n",
       "    font-size: 150%;\n",
       "    width:900px;\n",
       "    margin-left:auto;\n",
       "    margin-right:auto;\n",
       "}\n",
       "\n",
       "/* Formatting for header cells */\n",
       ".text_cell_render h1 {\n",
       "    font-family: 'Philosopher', sans-serif;\n",
       "    font-weight: 400;\n",
       "    font-size: 32pt;\n",
       "    line-height: 100%;\n",
       "    color: rgb(12,85,97);\n",
       "    margin-bottom: 0.1em;\n",
       "    margin-top: 0.1em;\n",
       "    display: block;\n",
       "}\n",
       "\n",
       ".text_cell_render h2 {\n",
       "    font-family: 'Philosopher', serif;\n",
       "    font-weight: 700;\n",
       "    font-size: 24pt;\n",
       "    line-height: 100%;\n",
       "    color: rgb(171,165,131);\n",
       "    margin-bottom: 0.1em;\n",
       "    margin-top: 0.1em;\n",
       "    display: block;\n",
       "}    \n",
       "\n",
       ".text_cell_render h3 {\n",
       "    font-family: 'Philosopher', serif;\n",
       "    margin-top:12px;\n",
       "    margin-bottom: 3px;\n",
       "    font-style: italic;\n",
       "    color: rgb(95,92,72);\n",
       "}\n",
       "\n",
       ".text_cell_render h4 {\n",
       "    font-family: 'Philosopher', serif;\n",
       "}\n",
       "\n",
       ".text_cell_render h5 {\n",
       "    font-family: 'Alegreya Sans', sans-serif;\n",
       "    font-weight: 300;\n",
       "    font-size: 16pt;\n",
       "    color: grey;\n",
       "    font-style: italic;\n",
       "    margin-bottom: .1em;\n",
       "    margin-top: 0.1em;\n",
       "    display: block;\n",
       "}\n",
       "\n",
       ".text_cell_render h6 {\n",
       "    font-family: 'PT Mono', sans-serif;\n",
       "    font-weight: 300;\n",
       "    font-size: 10pt;\n",
       "    color: grey;\n",
       "    margin-bottom: 1px;\n",
       "    margin-top: 1px;\n",
       "}\n",
       "\n",
       ".CodeMirror{\n",
       "        font-family: \"PT Mono\";\n",
       "        font-size: 120%;\n",
       "}\n",
       "\n",
       "</style>\n"
      ],
      "text/plain": [
       "<IPython.core.display.HTML object>"
      ]
     },
     "execution_count": 1,
     "metadata": {},
     "output_type": "execute_result"
    }
   ],
   "source": [
    "# standard library\n",
    "from urllib.request import urlopen\n",
    "\n",
    "import sys\n",
    "import os\n",
    "\n",
    "# Notebook\n",
    "from IPython.core.display import HTML\n",
    "from IPython.display import Image\n",
    "\n",
    "# formatting\n",
    "HTML(urlopen('http://bit.ly/1P72Mh9').read().decode('utf-8'))"
   ]
  },
  {
   "cell_type": "markdown",
   "metadata": {},
   "source": [
    "## Installation"
   ]
  },
  {
   "cell_type": "markdown",
   "metadata": {},
   "source": [
    "Let us get started by intalling the latest version of the package from the *Python Package Index (PyPI)*."
   ]
  },
  {
   "cell_type": "code",
   "execution_count": 2,
   "metadata": {
    "collapsed": false
   },
   "outputs": [],
   "source": [
    "%%bash\n",
    "pip install robupy > /dev/null"
   ]
  },
  {
   "cell_type": "markdown",
   "metadata": {},
   "source": [
    "## Model Specification"
   ]
  },
  {
   "cell_type": "code",
   "execution_count": 3,
   "metadata": {
    "collapsed": false
   },
   "outputs": [
    {
     "data": {
      "image/png": "[encoded data removed]",
      "text/plain": [
       "<IPython.core.display.Image object>"
      ]
     },
     "execution_count": 3,
     "metadata": {
      "image/png": {
       "width": 1000
      }
     },
     "output_type": "execute_result"
    }
   ],
   "source": [
    "Image(filename='material/model.png', width=1000)"
   ]
  },
  {
   "cell_type": "markdown",
   "metadata": {},
   "source": [
    "The initialization files and instructions to generate the simulated economies in Keane & Wolpin (1994) are available [here](https://github.com/robustToolbox/package).\n",
    "\n",
    "**TODO:** Create table with details on the elements in the initialization file."
   ]
  },
  {
   "cell_type": "markdown",
   "metadata": {},
   "source": [
    "## Solution and Simulation"
   ]
  },
  {
   "cell_type": "code",
   "execution_count": 4,
   "metadata": {
    "collapsed": false
   },
   "outputs": [
    {
     "name": "stderr",
     "output_type": "stream",
     "text": [
      "INFO:ROBUPY_SOLVE:Starting state space creation\n",
      "INFO:ROBUPY_SOLVE:... finished \n",
      "\n",
      "INFO:ROBUPY_SOLVE:Starting calculation of ex ante payoffs\n",
      "INFO:ROBUPY_SOLVE:... finished \n",
      "\n",
      "INFO:ROBUPY_SOLVE:Staring backward induction procedure\n",
      "INFO:ROBUPY_SOLVE:... solving period 4\n",
      "INFO:ROBUPY_SOLVE:... solving period 3\n",
      "INFO:ROBUPY_SOLVE:... solving period 2\n",
      "INFO:ROBUPY_SOLVE:... solving period 1\n",
      "INFO:ROBUPY_SOLVE:... solving period 0\n",
      "INFO:ROBUPY_SOLVE:... finished \n",
      "\n",
      "INFO:ROBUPY_SIMULATE:Staring simulation of model for 132 agents with seed 1000\n",
      "INFO:ROBUPY_SOLVE:... simulated 100 agents\n",
      "INFO:ROBUPY_SOLVE:... simulated 200 agents\n",
      "INFO:ROBUPY_SOLVE:... simulated 300 agents\n",
      "INFO:ROBUPY_SOLVE:... simulated 400 agents\n",
      "INFO:ROBUPY_SOLVE:... simulated 500 agents\n",
      "INFO:ROBUPY_SOLVE:... simulated 600 agents\n",
      "INFO:ROBUPY_SOLVE:... simulated 700 agents\n",
      "INFO:ROBUPY_SOLVE:... simulated 800 agents\n",
      "INFO:ROBUPY_SOLVE:... simulated 900 agents\n",
      "INFO:ROBUPY_SIMULATE:... finished \n",
      "\n"
     ]
    },
    {
     "data": {
      "text/plain": [
       "<robupy.clsRobupy.RobupyCls at 0x7f19842b5b38>"
      ]
     },
     "execution_count": 4,
     "metadata": {},
     "output_type": "execute_result"
    }
   ],
   "source": [
    "# Interface to the ROBUPY package\n",
    "from robupy import simulate\n",
    "from robupy import solve\n",
    "from robupy import read\n",
    "\n",
    "# Let us read in the model specification.\n",
    "robupy_obj = read('material/model.robupy.ini')\n",
    "\n",
    "# Solve and simulate the model.\n",
    "solve(robupy_obj)"
   ]
  },
  {
   "cell_type": "markdown",
   "metadata": {},
   "source": [
    "**Results**"
   ]
  },
  {
   "cell_type": "code",
   "execution_count": 5,
   "metadata": {
    "collapsed": false
   },
   "outputs": [
    {
     "name": "stdout",
     "output_type": "stream",
     "text": [
      "\n",
      " Simulated Economy\n",
      "\n",
      "   Number of Agents:       1000\n",
      "\n",
      "   Number of Periods:      5\n",
      "\n",
      "   Seed:                   132\n",
      "\n",
      "\n",
      "   Choices:  \n",
      "\n",
      "       Period     Work A     Work B    Schooling   Home      \n",
      "\n",
      "         1        0.2260     0.0050     0.0000     0.7690\n",
      "         2        0.2250     0.0080     0.0000     0.7670\n",
      "         3        0.2430     0.0170     0.0000     0.7400\n",
      "         4        0.2240     0.0070     0.0000     0.7690\n",
      "         5        0.2140     0.0090     0.0000     0.7770\n",
      "\n",
      "\n"
     ]
    }
   ],
   "source": [
    "%%bash\n",
    "cat data.robupy.info"
   ]
  },
  {
   "cell_type": "markdown",
   "metadata": {},
   "source": [
    "## References"
   ]
  },
  {
   "cell_type": "markdown",
   "metadata": {},
   "source": [
    "> Michael P. Keane, Kenneth I. Wolpin (1994). [The Solution and Estimation of Discrete Choice Dynamic Programming Models by Simulation and Interpolation: Monte Carlo Evidence](http://www.jstor.org/stable/2109768). *The Review of Economics and Statistics*, 76(4): 648-672.\n"
   ]
  }
 ],
 "metadata": {
  "kernelspec": {
   "display_name": "Python 3",
   "language": "python",
   "name": "python3"
  },
  "language_info": {
   "codemirror_mode": {
    "name": "ipython",
    "version": 3
   },
   "file_extension": ".py",
   "mimetype": "text/x-python",
   "name": "python",
   "nbconvert_exporter": "python",
   "pygments_lexer": "ipython3",
   "version": "3.4.3"
  }
 },
 "nbformat": 4,
 "nbformat_minor": 0
}
