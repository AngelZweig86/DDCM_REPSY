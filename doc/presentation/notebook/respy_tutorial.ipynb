{
 "cells": [
  {
   "cell_type": "code",
   "execution_count": 1,
   "metadata": {
    "collapsed": true
   },
   "outputs": [],
   "source": [
    "from respy import RespyCls, estimate, simulate\n",
    "import pandas as pd\n",
    "import numpy as np\n",
    "import seaborn as sns\n",
    "import matplotlib\n",
    "import matplotlib.pyplot as plt\n",
    "%matplotlib inline"
   ]
  },
  {
   "cell_type": "markdown",
   "metadata": {},
   "source": [
    "# Basic Usage of Respy"
   ]
  },
  {
   "cell_type": "code",
   "execution_count": 2,
   "metadata": {
    "collapsed": false
   },
   "outputs": [
    {
     "name": "stdout",
     "output_type": "stream",
     "text": [
      "Overwriting example.ini\n"
     ]
    }
   ],
   "source": [
    "%%file example.ini\n",
    "BASICS\n",
    "\n",
    "periods                      10\n",
    "delta                    0.9900 # 0.95\n",
    "\n",
    "OCCUPATION A\n",
    "\n",
    "coeff                    9.2100\n",
    "coeff                    0.090\n",
    "coeff                    0.0530\n",
    "coeff                   -0.0005\n",
    "coeff                    0.0000\n",
    "coeff                   -0.0000\n",
    "\n",
    "OCCUPATION B\n",
    "\n",
    "coeff                    8.4800 # 8.5\n",
    "coeff                    0.150\n",
    "coeff                    0.0220\n",
    "coeff                   -0.0005\n",
    "coeff                    0.0770\n",
    "coeff                   -0.0010\n",
    "\n",
    "EDUCATION\n",
    "\n",
    "coeff                    0.0000\n",
    "coeff                   -0.0000\n",
    "coeff                -4000.0000\n",
    "\n",
    "start                   10\n",
    "max                     20\n",
    "\n",
    "HOME\n",
    "\n",
    "coeff                17750.0000\n",
    "\n",
    "SHOCKS\n",
    "\n",
    "coeff                    0.2000\n",
    "coeff                    0.0000\n",
    "coeff                    0.0000\n",
    "coeff                    0.0000\n",
    "coeff                    0.2500\n",
    "coeff                    0.0000\n",
    "coeff                    0.0000\n",
    "coeff                 1500.0000\n",
    "coeff                    0.0000\n",
    "coeff                 1500.0000\n",
    "\n",
    "SOLUTION\n",
    "\n",
    "draws                        50\n",
    "seed                        456\n",
    "store                     False\n",
    "\n",
    "SIMULATION\n",
    "\n",
    "agents                     2000\n",
    "file             data.respy.dat\n",
    "seed                        132\n",
    "\n",
    "ESTIMATION\n",
    "\n",
    "agents                      100\n",
    "file             data.respy.dat\n",
    "optimizer           FORT-NEWUOA\n",
    "tau                         500\n",
    "maxfun                       50\n",
    "draws                       200\n",
    "seed                        500\n",
    "\n",
    "PROGRAM\n",
    "\n",
    "debug                      True\n",
    "version                 FORTRAN\n",
    "\n",
    "DERIVATIVES\n",
    "\n",
    "version     forward-differences\n",
    "eps           0.000100000000000\n",
    "\n",
    "SCALING\n",
    "\n",
    "flag                       True\n",
    "minimum                 0.00001\n",
    "\n",
    "PARALLELISM\n",
    "\n",
    "flag                      False\n",
    "procs                         3\n",
    "\n",
    "INTERPOLATION\n",
    "\n",
    "flag                      False\n",
    "points                      200\n",
    "\n",
    "SCIPY-BFGS\n",
    "\n",
    "gtol                     0.0001\n",
    "maxiter                       1\n",
    "\n",
    "SCIPY-POWELL\n",
    "\n",
    "maxiter                       1\n",
    "maxfun                  1000000\n",
    "ftol                     0.0001\n",
    "xtol                     0.0001\n",
    "\n",
    "FORT-NEWUOA\n",
    "\n",
    "npt                         53\n",
    "rhobeg                     1.0\n",
    "rhoend                0.000001\n",
    "maxfun                 1000000"
   ]
  },
  {
   "cell_type": "code",
   "execution_count": 3,
   "metadata": {
    "collapsed": false
   },
   "outputs": [
    {
     "data": {
      "text/plain": [
       "<respy.clsRespy.RespyCls at 0x7f0cfd0cbd30>"
      ]
     },
     "execution_count": 3,
     "metadata": {},
     "output_type": "execute_result"
    }
   ],
   "source": [
    "# make an instance of the respy class.\n",
    "# this just reads in the .ini file and checks that everything makes sense\n",
    "respy_obj = RespyCls('example.ini')\n",
    "\n",
    "# set a seed\n",
    "np.random.seed(5471)\n",
    "\n",
    "# create a simulated dataset in which the parameters we specified are\n",
    "# the true population parameters\n",
    "simulate(respy_obj)"
   ]
  },
  {
   "cell_type": "code",
   "execution_count": 4,
   "metadata": {
    "collapsed": false
   },
   "outputs": [],
   "source": [
    "# estimate parameters on the simulated dataset.\n",
    "# full estimation of a model takes too long on this old laptop. \n",
    "# I therefore set the maximum number of function evaluations to 50\n",
    "params, crit_val = estimate(respy_obj)"
   ]
  },
  {
   "cell_type": "code",
   "execution_count": 5,
   "metadata": {
    "collapsed": false
   },
   "outputs": [
    {
     "data": {
      "text/plain": [
       "array([  9.21000000e+00,   9.00000000e-02,   5.30000000e-02,\n",
       "        -5.00000000e-04,   0.00000000e+00,   0.00000000e+00,\n",
       "         8.48000000e+00,   1.50000000e-01,   2.20000000e-02,\n",
       "        -5.00000000e-04,   7.70000000e-02,  -1.00000000e-03,\n",
       "         0.00000000e+00,   0.00000000e+00,  -4.00000000e+03,\n",
       "         1.77500000e+04,   2.00000000e-01,   0.00000000e+00,\n",
       "         2.50000000e-01,   0.00000000e+00,   0.00000000e+00,\n",
       "         1.50000000e+03,   0.00000000e+00,   0.00000000e+00,\n",
       "         0.00000000e+00,   1.50000000e+03])"
      ]
     },
     "execution_count": 5,
     "metadata": {},
     "output_type": "execute_result"
    }
   ],
   "source": [
    "params"
   ]
  },
  {
   "cell_type": "markdown",
   "metadata": {},
   "source": [
    "# Playing around with the simulated dataset"
   ]
  },
  {
   "cell_type": "code",
   "execution_count": 6,
   "metadata": {
    "collapsed": false
   },
   "outputs": [
    {
     "data": {
      "text/html": [
       "<div>\n",
       "<table border=\"1\" class=\"dataframe\">\n",
       "  <thead>\n",
       "    <tr style=\"text-align: right;\">\n",
       "      <th></th>\n",
       "      <th>id</th>\n",
       "      <th>period</th>\n",
       "      <th>choice</th>\n",
       "      <th>earnings</th>\n",
       "      <th>experience_a</th>\n",
       "      <th>experience_b</th>\n",
       "      <th>schooling</th>\n",
       "      <th>lagged_schooling</th>\n",
       "      <th>named_choice</th>\n",
       "    </tr>\n",
       "  </thead>\n",
       "  <tbody>\n",
       "    <tr>\n",
       "      <th>0</th>\n",
       "      <td>0</td>\n",
       "      <td>0</td>\n",
       "      <td>1</td>\n",
       "      <td>26250.53</td>\n",
       "      <td>0</td>\n",
       "      <td>0</td>\n",
       "      <td>10</td>\n",
       "      <td>1</td>\n",
       "      <td>Occupation A</td>\n",
       "    </tr>\n",
       "    <tr>\n",
       "      <th>1</th>\n",
       "      <td>0</td>\n",
       "      <td>1</td>\n",
       "      <td>1</td>\n",
       "      <td>25850.16</td>\n",
       "      <td>1</td>\n",
       "      <td>0</td>\n",
       "      <td>10</td>\n",
       "      <td>0</td>\n",
       "      <td>Occupation A</td>\n",
       "    </tr>\n",
       "    <tr>\n",
       "      <th>2</th>\n",
       "      <td>0</td>\n",
       "      <td>2</td>\n",
       "      <td>1</td>\n",
       "      <td>36441.70</td>\n",
       "      <td>2</td>\n",
       "      <td>0</td>\n",
       "      <td>10</td>\n",
       "      <td>0</td>\n",
       "      <td>Occupation A</td>\n",
       "    </tr>\n",
       "    <tr>\n",
       "      <th>3</th>\n",
       "      <td>0</td>\n",
       "      <td>3</td>\n",
       "      <td>1</td>\n",
       "      <td>30941.57</td>\n",
       "      <td>3</td>\n",
       "      <td>0</td>\n",
       "      <td>10</td>\n",
       "      <td>0</td>\n",
       "      <td>Occupation A</td>\n",
       "    </tr>\n",
       "    <tr>\n",
       "      <th>4</th>\n",
       "      <td>0</td>\n",
       "      <td>4</td>\n",
       "      <td>1</td>\n",
       "      <td>21272.74</td>\n",
       "      <td>4</td>\n",
       "      <td>0</td>\n",
       "      <td>10</td>\n",
       "      <td>0</td>\n",
       "      <td>Occupation A</td>\n",
       "    </tr>\n",
       "  </tbody>\n",
       "</table>\n",
       "</div>"
      ],
      "text/plain": [
       "   id  period  choice  earnings  experience_a  experience_b  schooling  \\\n",
       "0   0       0       1  26250.53             0             0         10   \n",
       "1   0       1       1  25850.16             1             0         10   \n",
       "2   0       2       1  36441.70             2             0         10   \n",
       "3   0       3       1  30941.57             3             0         10   \n",
       "4   0       4       1  21272.74             4             0         10   \n",
       "\n",
       "   lagged_schooling  named_choice  \n",
       "0                 1  Occupation A  \n",
       "1                 0  Occupation A  \n",
       "2                 0  Occupation A  \n",
       "3                 0  Occupation A  \n",
       "4                 0  Occupation A  "
      ]
     },
     "execution_count": 6,
     "metadata": {},
     "output_type": "execute_result"
    }
   ],
   "source": [
    "data = pd.read_csv('data.respy.dat', delim_whitespace=True, header=-1, na_values='.')\n",
    "data.columns = ['id', 'period', 'choice', 'earnings', 'experience_a',\n",
    "                'experience_b', 'schooling', 'lagged_schooling']\n",
    "data['named_choice'] = data['choice'].replace({1: 'Occupation A', 2: 'Occupation B', 3: 'Education', 4: 'Home'})\n",
    "data.head()"
   ]
  },
  {
   "cell_type": "code",
   "execution_count": 7,
   "metadata": {
    "collapsed": false
   },
   "outputs": [
    {
     "data": {
      "text/plain": [
       "<matplotlib.axes._subplots.AxesSubplot at 0x7f0d2c38b198>"
      ]
     },
     "execution_count": 7,
     "metadata": {},
     "output_type": "execute_result"
    },
    {
     "data": {
      "image/png": "[encoded data removed]",
      "text/plain": [
       "<matplotlib.figure.Figure at 0x7f0cfbf59fd0>"
      ]
     },
     "metadata": {},
     "output_type": "display_data"
    }
   ],
   "source": [
    "sns.countplot(data['named_choice'])"
   ]
  },
  {
   "cell_type": "code",
   "execution_count": 8,
   "metadata": {
    "collapsed": false
   },
   "outputs": [
    {
     "data": {
      "text/plain": [
       "<matplotlib.axes._subplots.AxesSubplot at 0x7f0cf836f4e0>"
      ]
     },
     "execution_count": 8,
     "metadata": {},
     "output_type": "execute_result"
    },
    {
     "data": {
      "image/png": "[encoded data removed]",
      "text/plain": [
       "<matplotlib.figure.Figure at 0x7f0cf826cf98>"
      ]
     },
     "metadata": {},
     "output_type": "display_data"
    }
   ],
   "source": [
    "fig, ax = plt.subplots(figsize=(12, 6))\n",
    "sns.boxplot(y='earnings', x='period', data=data, hue='named_choice')"
   ]
  },
  {
   "cell_type": "code",
   "execution_count": 9,
   "metadata": {
    "collapsed": false
   },
   "outputs": [
    {
     "data": {
      "image/png": "[encoded data removed]",
      "text/plain": [
       "<matplotlib.figure.Figure at 0x7f0cf860c860>"
      ]
     },
     "metadata": {},
     "output_type": "display_data"
    },
    {
     "data": {
      "image/png": "[encoded data removed]",
      "text/plain": [
       "<matplotlib.figure.Figure at 0x7f0cf8430a20>"
      ]
     },
     "metadata": {},
     "output_type": "display_data"
    },
    {
     "data": {
      "image/png": "[encoded data removed]",
      "text/plain": [
       "<matplotlib.figure.Figure at 0x7f0cf82762b0>"
      ]
     },
     "metadata": {},
     "output_type": "display_data"
    }
   ],
   "source": [
    "choice_names = ['Occupation A', 'Education', 'Occupation B']\n",
    "for i, name in enumerate(choice_names):\n",
    "    fig, ax = plt.subplots(figsize=(12, 6))\n",
    "    data[name] = (data['named_choice'] == name).astype(float)\n",
    "    sns.barplot(y=name, x='period', data=data, color=sns.color_palette()[i])\n",
    "    ax.set_ylim(0, 1)\n",
    "    plt.show()\n",
    "    plt.close()"
   ]
  },
  {
   "cell_type": "code",
   "execution_count": null,
   "metadata": {
    "collapsed": true
   },
   "outputs": [],
   "source": []
  },
  {
   "cell_type": "code",
   "execution_count": null,
   "metadata": {
    "collapsed": true
   },
   "outputs": [],
   "source": []
  },
  {
   "cell_type": "code",
   "execution_count": null,
   "metadata": {
    "collapsed": true
   },
   "outputs": [],
   "source": []
  },
  {
   "cell_type": "code",
   "execution_count": null,
   "metadata": {
    "collapsed": true
   },
   "outputs": [],
   "source": []
  },
  {
   "cell_type": "code",
   "execution_count": null,
   "metadata": {
    "collapsed": true
   },
   "outputs": [],
   "source": []
  },
  {
   "cell_type": "code",
   "execution_count": null,
   "metadata": {
    "collapsed": true
   },
   "outputs": [],
   "source": []
  }
 ],
 "metadata": {
  "kernelspec": {
   "display_name": "Python 3",
   "language": "python",
   "name": "python3"
  },
  "language_info": {
   "codemirror_mode": {
    "name": "ipython",
    "version": 3
   },
   "file_extension": ".py",
   "mimetype": "text/x-python",
   "name": "python",
   "nbconvert_exporter": "python",
   "pygments_lexer": "ipython3",
   "version": "3.6.0"
  }
 },
 "nbformat": 4,
 "nbformat_minor": 2
}
